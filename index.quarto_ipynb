{
  "cells": [
    {
      "cell_type": "markdown",
      "metadata": {},
      "source": [
        "# Preface {.unnumbered}\n",
        "\n",
        "\n",
        "\n",
        "\n",
        "\n",
        "\n",
        "\n",
        "\n",
        "```{html}\n",
        "<p>\n",
        "  Here you can read something about my PhD project.\n",
        "The @sec-intro provides an overview and introduction to my topic. @sec-paper1 deals with the unequal access to digital media. The next @sec-paper2 deals with the question of how loneliness and social isolation are connected. The last @sec-paper3 presents a short experiment. \n",
        "\n",
        "You can also visit my [website](https://lottehaussmann.github.io/Website/).\n",
        "</p>\n",
        "```"
      ],
      "id": "a6447b1a"
    }
  ],
  "metadata": {
    "kernelspec": {
      "display_name": "Python 3",
      "language": "python",
      "name": "python3"
    }
  },
  "nbformat": 4,
  "nbformat_minor": 5
}